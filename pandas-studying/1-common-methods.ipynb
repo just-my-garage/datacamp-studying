{
  "cells": [
    {
      "cell_type": "markdown",
      "metadata": {
        "id": "INnUbUr8YHXn"
      },
      "source": [
        "# Pandas Learning\n",
        "\n",
        "- is made from matplotib and numpy\n",
        "- Pandas' representation of data is through a dataframe (table)"
      ]
    },
    {
      "cell_type": "code",
      "execution_count": 1,
      "metadata": {
        "id": "_6OHIbMqXrps"
      },
      "outputs": [
        {
          "ename": "ModuleNotFoundError",
          "evalue": "No module named 'pandas'",
          "output_type": "error",
          "traceback": [
            "\u001b[31m---------------------------------------------------------------------------\u001b[39m",
            "\u001b[31mModuleNotFoundError\u001b[39m                       Traceback (most recent call last)",
            "\u001b[36mCell\u001b[39m\u001b[36m \u001b[39m\u001b[32mIn[1]\u001b[39m\u001b[32m, line 1\u001b[39m\n\u001b[32m----> \u001b[39m\u001b[32m1\u001b[39m \u001b[38;5;28;01mimport\u001b[39;00m\u001b[38;5;250m \u001b[39m\u001b[34;01mpandas\u001b[39;00m\u001b[38;5;250m \u001b[39m\u001b[38;5;28;01mas\u001b[39;00m\u001b[38;5;250m \u001b[39m\u001b[34;01mpd\u001b[39;00m\n\u001b[32m      2\u001b[39m \u001b[38;5;28;01mimport\u001b[39;00m\u001b[38;5;250m \u001b[39m\u001b[34;01mnumpy\u001b[39;00m\u001b[38;5;250m \u001b[39m\u001b[38;5;28;01mas\u001b[39;00m\u001b[38;5;250m \u001b[39m\u001b[34;01mnp\u001b[39;00m\n\u001b[32m      4\u001b[39m california_housing_test = pd.read_csv(\u001b[33m'\u001b[39m\u001b[33msample_data/california_housing_test.csv\u001b[39m\u001b[33m'\u001b[39m)\n",
            "\u001b[31mModuleNotFoundError\u001b[39m: No module named 'pandas'"
          ]
        }
      ],
      "source": [
        "import pandas as pd\n",
        "import numpy as np\n",
        "\n",
        "california_housing_test = pd.read_csv('sample_data/california_housing_test.csv')\n",
        "dataset = {\n",
        "    'column1': np.random.rand(10),  # 10 random floats between 0 and 1\n",
        "    'column2': np.random.randint(0, 100, 10),  # 10 random integers between 0 and 99\n",
        "    'column3': ['A', 'B', 'C', 'A', 'B', 'C', 'A', 'B', 'C', 'A'] # 10 categorical values\n",
        "}\n",
        "\n",
        "sample_df = pd.DataFrame(dataset)"
      ]
    },
    {
      "cell_type": "code",
      "execution_count": null,
      "metadata": {
        "collapsed": true,
        "id": "wGfbyXNtYJuA"
      },
      "outputs": [],
      "source": [
        "\"\"\"\n",
        "  .head()\n",
        "\n",
        "  RETURNS THE FIRST 5 ROWS OF THE DATAFRAME\n",
        "\"\"\"\n",
        "print(california_housing_test.head())"
      ]
    },
    {
      "cell_type": "code",
      "execution_count": null,
      "metadata": {
        "collapsed": true,
        "id": "0glNb9DwZM_Q"
      },
      "outputs": [],
      "source": [
        "\"\"\"\n",
        "  .shape\n",
        "\n",
        "  RETURNS NO. OF ROWS, NEXT COLUMNS\n",
        "\"\"\"\n",
        "print(california_housing_test.shape)"
      ]
    },
    {
      "cell_type": "code",
      "execution_count": null,
      "metadata": {
        "collapsed": true,
        "id": "DS6NN7CZcomy"
      },
      "outputs": [],
      "source": [
        "\"\"\"\n",
        "  .info()\n",
        "\n",
        "  RETURNS INFO ABOUT THE DATAFRAME\n",
        "\"\"\"\n",
        "print(california_housing_test.info())"
      ]
    },
    {
      "cell_type": "code",
      "execution_count": null,
      "metadata": {
        "collapsed": true,
        "id": "Q4-awzTta2fh"
      },
      "outputs": [],
      "source": [
        "\"\"\"\n",
        "  .describe()\n",
        "\n",
        "  RETURNS A SUMMARY OF THE DATAFRAME\n",
        "\"\"\"\n",
        "print(california_housing_test.describe())"
      ]
    },
    {
      "cell_type": "code",
      "execution_count": null,
      "metadata": {
        "collapsed": true,
        "id": "Rw9GKVpnbCqu"
      },
      "outputs": [],
      "source": [
        "\"\"\"\n",
        "  .values\n",
        "\n",
        "  RETURNS ALL THE VALUES IN ARRAY FORMAT\n",
        "\"\"\"\n",
        "print(sample_df.values)"
      ]
    },
    {
      "cell_type": "code",
      "execution_count": null,
      "metadata": {
        "collapsed": true,
        "id": "fP8bLFt7cgjW"
      },
      "outputs": [],
      "source": [
        "\"\"\"\n",
        "  .columns\n",
        "\n",
        "  RETURNS THE COLUMNS OF THE DATAFRAME\n",
        "\"\"\"\n",
        "print(california_housing_test.columns)"
      ]
    },
    {
      "cell_type": "code",
      "execution_count": null,
      "metadata": {
        "collapsed": true,
        "id": "TcDyoQQockJE"
      },
      "outputs": [],
      "source": [
        "\"\"\"\n",
        "  .index\n",
        "\n",
        "  RETURNS THE INDEX OF THE DATAFRAME\n",
        "\"\"\"\n",
        "print(california_housing_test.index)"
      ]
    },
    {
      "cell_type": "markdown",
      "metadata": {
        "id": "ykJJlwn1f3Zt"
      },
      "source": [
        "Subsetting ROWS"
      ]
    },
    {
      "cell_type": "code",
      "execution_count": null,
      "metadata": {
        "collapsed": true,
        "id": "bxjVdwRcfm3f"
      },
      "outputs": [],
      "source": [
        "# sample_df[sample_df[\"column2\"] < 20]\n",
        "california_housing_test[california_housing_test[\"housing_median_age\"] > 51]"
      ]
    },
    {
      "cell_type": "markdown",
      "metadata": {
        "id": "ACRYdrPlh_bi"
      },
      "source": [
        "You can also subset rows based on date coditions, although our dataframes don't contain dates, therefore i'll represent it here\n",
        "\n",
        "```python\n",
        "sample_df[[sample_df] < \"2023-01-30\"]\n",
        "```"
      ]
    },
    {
      "cell_type": "markdown",
      "metadata": {
        "id": "eLbR-4UxijxM"
      },
      "source": [
        "Subsetting multiple conditions\n",
        "\n",
        "```python\n",
        "  is_lab = dogs[\"breed\" === \"Labrador\"]\n",
        "  is_brown = dogs[\"color\" == \"Brown\"]\n",
        "  \n",
        "  dogs[is_lab & is_brown]\n",
        "```\n",
        "\n"
      ]
    },
    {
      "cell_type": "markdown",
      "metadata": {
        "id": "GAKzDdsLjdrp"
      },
      "source": [
        "Although you could as well do this to subset string values\n",
        "\n",
        "```python\n",
        "  is_black_or_brown = dogs[\"color\"].isin([\"Black\", \"Brown\"])\n",
        "\n",
        "  dogs[is_black_or_brown]\n",
        "```"
      ]
    }
  ],
  "metadata": {
    "colab": {
      "private_outputs": true,
      "provenance": []
    },
    "kernelspec": {
      "display_name": ".venv",
      "language": "python",
      "name": "python3"
    },
    "language_info": {
      "codemirror_mode": {
        "name": "ipython",
        "version": 3
      },
      "file_extension": ".py",
      "mimetype": "text/x-python",
      "name": "python",
      "nbconvert_exporter": "python",
      "pygments_lexer": "ipython3",
      "version": "3.13.3"
    }
  },
  "nbformat": 4,
  "nbformat_minor": 0
}
