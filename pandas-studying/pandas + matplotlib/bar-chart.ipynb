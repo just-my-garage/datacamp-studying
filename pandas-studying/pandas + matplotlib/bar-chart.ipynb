{
 "cells": [
  {
   "cell_type": "markdown",
   "id": "30f9000c",
   "metadata": {},
   "source": [
    "# Simple Bar Plot w/ matplotlib"
   ]
  },
  {
   "cell_type": "code",
   "execution_count": 6,
   "id": "fd266314",
   "metadata": {},
   "outputs": [
    {
     "data": {
      "text/html": [
       "<div>\n",
       "<style scoped>\n",
       "    .dataframe tbody tr th:only-of-type {\n",
       "        vertical-align: middle;\n",
       "    }\n",
       "\n",
       "    .dataframe tbody tr th {\n",
       "        vertical-align: top;\n",
       "    }\n",
       "\n",
       "    .dataframe thead th {\n",
       "        text-align: right;\n",
       "    }\n",
       "</style>\n",
       "<table border=\"1\" class=\"dataframe\">\n",
       "  <thead>\n",
       "    <tr style=\"text-align: right;\">\n",
       "      <th></th>\n",
       "      <th>column1</th>\n",
       "      <th>column2</th>\n",
       "      <th>column3</th>\n",
       "      <th>column4</th>\n",
       "    </tr>\n",
       "  </thead>\n",
       "  <tbody>\n",
       "    <tr>\n",
       "      <th>0</th>\n",
       "      <td>0.421465</td>\n",
       "      <td>3</td>\n",
       "      <td>A</td>\n",
       "      <td>a</td>\n",
       "    </tr>\n",
       "    <tr>\n",
       "      <th>1</th>\n",
       "      <td>0.033073</td>\n",
       "      <td>68</td>\n",
       "      <td>B</td>\n",
       "      <td>b</td>\n",
       "    </tr>\n",
       "    <tr>\n",
       "      <th>2</th>\n",
       "      <td>0.867595</td>\n",
       "      <td>52</td>\n",
       "      <td>C</td>\n",
       "      <td>c</td>\n",
       "    </tr>\n",
       "    <tr>\n",
       "      <th>3</th>\n",
       "      <td>0.000432</td>\n",
       "      <td>96</td>\n",
       "      <td>D</td>\n",
       "      <td>d</td>\n",
       "    </tr>\n",
       "    <tr>\n",
       "      <th>4</th>\n",
       "      <td>0.479661</td>\n",
       "      <td>86</td>\n",
       "      <td>E</td>\n",
       "      <td>e</td>\n",
       "    </tr>\n",
       "  </tbody>\n",
       "</table>\n",
       "</div>"
      ],
      "text/plain": [
       "    column1  column2 column3 column4\n",
       "0  0.421465        3       A       a\n",
       "1  0.033073       68       B       b\n",
       "2  0.867595       52       C       c\n",
       "3  0.000432       96       D       d\n",
       "4  0.479661       86       E       e"
      ]
     },
     "execution_count": 6,
     "metadata": {},
     "output_type": "execute_result"
    }
   ],
   "source": [
    "import pandas as pd\n",
    "import numpy as np\n",
    "\n",
    "dataset = {\n",
    "    'column1': np.random.rand(10),  # 10 random floats between 0 and 1\n",
    "    'column2': np.random.randint(0, 100, 10),  # 10 random integers between 0 and 99\n",
    "    'column3': ['A', 'B', 'C', 'D', 'E', 'F', 'G', 'H', 'I', 'J'], # 10 categorical values\n",
    "    'column4': ['a', 'b', 'c', 'd', 'e', 'f', 'g', 'h', 'i', 'j']\n",
    "}\n",
    "\n",
    "sample_df = pd.DataFrame(dataset)\n",
    "sample_df.head()"
   ]
  },
  {
   "cell_type": "code",
   "execution_count": 7,
   "id": "f85023c5",
   "metadata": {},
   "outputs": [
    {
     "data": {
      "image/png": "[encoded data removed]",
      "text/plain": [
       "<Figure size 1000x300 with 1 Axes>"
      ]
     },
     "metadata": {},
     "output_type": "display_data"
    }
   ],
   "source": [
    "import matplotlib.pyplot as plt\n",
    "\n",
    "avg_rand_value_lol = sample_df = sample_df.groupby('column3')['column2'].mean() \n",
    "avg_rand_value_lol.plot(kind='bar', title='Average Random Value by Category', xlabel='Category', ylabel='Average Value', figsize=(10, 3))\n",
    "plt.show()"
   ]
  },
  {
   "cell_type": "code",
   "execution_count": null,
   "id": "b728c3e1",
   "metadata": {},
   "outputs": [],
   "source": []
  }
 ],
 "metadata": {
  "kernelspec": {
   "display_name": ".venv (3.13.5)",
   "language": "python",
   "name": "python3"
  },
  "language_info": {
   "codemirror_mode": {
    "name": "ipython",
    "version": 3
   },
   "file_extension": ".py",
   "mimetype": "text/x-python",
   "name": "python",
   "nbconvert_exporter": "python",
   "pygments_lexer": "ipython3",
   "version": "3.13.5"
  }
 },
 "nbformat": 4,
 "nbformat_minor": 5
}
