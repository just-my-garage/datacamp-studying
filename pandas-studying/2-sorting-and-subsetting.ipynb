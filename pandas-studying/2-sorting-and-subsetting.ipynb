{
 "cells": [
  {
   "cell_type": "markdown",
   "id": "7c8bef4a",
   "metadata": {},
   "source": [
    "# Sorting and Subsetting\n",
    "`.sort_values()` is a very powerful method tha can have multiple parameters and attributes"
   ]
  },
  {
   "cell_type": "code",
   "execution_count": null,
   "id": "ac43c9d6",
   "metadata": {},
   "outputs": [],
   "source": [
    "import pandas as pd\n",
    "import numpy as np\n",
    "\n",
    "california_housing_test = pd.read_csv('sample_data/california_housing_test.csv')\n",
    "dataset = {\n",
    "    'column1': np.random.rand(10),  # 10 random floats between 0 and 1\n",
    "    'column2': np.random.randint(0, 100, 10),  # 10 random integers between 0 and 99\n",
    "    'column3': ['A', 'B', 'C', 'A', 'B', 'C', 'A', 'B', 'C', 'A'] # 10 categorical values\n",
    "}\n",
    "\n",
    "sample_df = pd.DataFrame(dataset)"
   ]
  },
  {
   "cell_type": "code",
   "execution_count": null,
   "id": "cabd0837",
   "metadata": {},
   "outputs": [],
   "source": [
    "\"\"\"\n",
    "  .sort_values(<COLUMN>)\n",
    "\n",
    "  SORTS DATAFRAME BY COLUMN, LOWEST TO HIGHEST\n",
    "\"\"\"\n",
    "print(sample_df.sort_values('column1'))"
   ]
  },
  {
   "cell_type": "code",
   "execution_count": null,
   "id": "da36a52b",
   "metadata": {},
   "outputs": [],
   "source": [
    "\"\"\"\n",
    "  .sort_values(<COLUMN>, ascending=False)\n",
    "\n",
    "  SORTS DATAFRAME BY COLUMN, HIGHEST TO LOWEST\n",
    "\"\"\"\n",
    "print(sample_df.sort_values(['column1', \"column2\"], ascending=[True, False]))"
   ]
  },
  {
   "cell_type": "markdown",
   "id": "0f2bd727",
   "metadata": {},
   "source": [
    "Subsetting refers to choosing a specific column in a dataframe:"
   ]
  },
  {
   "cell_type": "code",
   "execution_count": null,
   "id": "93e017cd",
   "metadata": {},
   "outputs": [],
   "source": [
    "sample_df['column1']"
   ]
  },
  {
   "cell_type": "markdown",
   "id": "7e7c5f73",
   "metadata": {},
   "source": [
    "Getting multiple columns at once:"
   ]
  },
  {
   "cell_type": "code",
   "execution_count": null,
   "id": "e881e87e",
   "metadata": {},
   "outputs": [],
   "source": [
    "sample_df[[\"column1\", \"column2\"]]"
   ]
  },
  {
   "cell_type": "markdown",
   "id": "5641e34a",
   "metadata": {},
   "source": [
    "Subsetting ROWS"
   ]
  },
  {
   "cell_type": "code",
   "execution_count": null,
   "id": "d7d36fd8",
   "metadata": {},
   "outputs": [],
   "source": [
    "# sample_df[sample_df[\"column2\"] < 20]\n",
    "california_housing_test[california_housing_test[\"housing_median_age\"] > 51]"
   ]
  },
  {
   "cell_type": "markdown",
   "id": "8edbfb51",
   "metadata": {},
   "source": [
    "Subsetting multiple conditions\n",
    "\n",
    "```python\n",
    "  is_lab = dogs[\"breed\" === \"Labrador\"]\n",
    "  is_brown = dogs[\"color\" == \"Brown\"]\n",
    "  \n",
    "  dogs[is_lab & is_brown]\n",
    "```\n",
    "\n"
   ]
  }
 ],
 "metadata": {
  "kernelspec": {
   "display_name": ".venv",
   "language": "python",
   "name": "python3"
  },
  "language_info": {
   "codemirror_mode": {
    "name": "ipython",
    "version": 3
   },
   "file_extension": ".py",
   "mimetype": "text/x-python",
   "name": "python",
   "nbconvert_exporter": "python",
   "pygments_lexer": "ipython3",
   "version": "3.13.3"
  }
 },
 "nbformat": 4,
 "nbformat_minor": 5
}
