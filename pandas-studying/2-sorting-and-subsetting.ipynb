{
 "cells": [
  {
   "cell_type": "markdown",
   "id": "7c8bef4a",
   "metadata": {},
   "source": [
    "# Sorting and Subsetting\n",
    "`.sort_values()` is a very powerful method tha can have multiple parameters and attributes"
   ]
  },
  {
   "cell_type": "code",
   "execution_count": 6,
   "id": "ac43c9d6",
   "metadata": {},
   "outputs": [],
   "source": [
    "import pandas as pd\n",
    "import numpy as np\n",
    "\n",
    "california_housing_test = pd.read_csv('../datasets-from-colab/california_housing_test.csv')\n",
    "dataset = {\n",
    "    'column1': np.random.rand(10),  # 10 random floats between 0 and 1\n",
    "    'column2': np.random.randint(0, 100, 10),  # 10 random integers between 0 and 99\n",
    "    'column3': ['A', 'B', 'C', 'A', 'B', 'C', 'A', 'B', 'C', 'A'] # 10 categorical values\n",
    "}\n",
    "\n",
    "sample_df = pd.DataFrame(california_housing_test)"
   ]
  },
  {
   "cell_type": "code",
   "execution_count": null,
   "id": "cabd0837",
   "metadata": {},
   "outputs": [],
   "source": [
    "\"\"\"\n",
    "  .sort_values(<COLUMN>)\n",
    "\n",
    "  SORTS DATAFRAME BY COLUMN, \n",
    "  DEFAULT `LOWEST TO HIGHEST VALUE` BASED ON COLUMN\n",
    "\"\"\"\n",
    "print(sample_df.sort_values('column1'))"
   ]
  },
  {
   "cell_type": "code",
   "execution_count": 8,
   "id": "da36a52b",
   "metadata": {},
   "outputs": [
    {
     "name": "stdout",
     "output_type": "stream",
     "text": [
      "      longitude  latitude  housing_median_age  total_rooms  total_bedrooms  \\\n",
      "2640    -114.62     33.62                26.0         18.0             3.0   \n",
      "1115    -116.95     33.86                 1.0          6.0             2.0   \n",
      "740     -117.12     32.66                52.0         16.0             4.0   \n",
      "2494    -118.44     34.04                49.0         32.0             7.0   \n",
      "1355    -117.11     32.66                52.0         25.0             5.0   \n",
      "...         ...       ...                 ...          ...             ...   \n",
      "1597    -117.12     33.49                 4.0      21988.0          4055.0   \n",
      "2429    -117.20     33.58                 2.0      30450.0          5033.0   \n",
      "1146    -117.27     33.15                 4.0      23915.0          4135.0   \n",
      "2186    -116.14     34.45                12.0       8796.0          1721.0   \n",
      "978     -121.53     38.48                 5.0      27870.0          5027.0   \n",
      "\n",
      "      population  households  median_income  median_house_value  \n",
      "2640         5.0         3.0         0.5360            275000.0  \n",
      "1115         8.0         2.0         1.6250             55000.0  \n",
      "740          8.0         3.0         1.1250             60000.0  \n",
      "2494        14.0         7.0         2.1875            225000.0  \n",
      "1355        14.0         9.0         1.6250            118800.0  \n",
      "...          ...         ...            ...                 ...  \n",
      "1597      8824.0      3252.0         3.9963            191100.0  \n",
      "2429      9419.0      3197.0         4.5936            174300.0  \n",
      "1146     10877.0      3958.0         4.6357            244900.0  \n",
      "2186     11139.0      1680.0         2.2612            137500.0  \n",
      "978      11935.0      4855.0         4.8811            212200.0  \n",
      "\n",
      "[3000 rows x 9 columns]\n"
     ]
    }
   ],
   "source": [
    "\"\"\"\n",
    "  .sort_values(<COLUMN>, ascending=False)\n",
    "\n",
    "  SORTS DATAFRAME BY COLUMN, HIGHEST TO LOWEST\n",
    "\"\"\"\n",
    "print(sample_df.sort_values(['population', \"median_income\"], ascending=[True, False]))"
   ]
  },
  {
   "cell_type": "markdown",
   "id": "0f2bd727",
   "metadata": {},
   "source": [
    "Subsetting refers to choosing a specific column in a dataframe:"
   ]
  },
  {
   "cell_type": "code",
   "execution_count": 9,
   "id": "93e017cd",
   "metadata": {},
   "outputs": [
    {
     "data": {
      "text/plain": [
       "0       1537.0\n",
       "1        809.0\n",
       "2       1484.0\n",
       "3         49.0\n",
       "4        850.0\n",
       "         ...  \n",
       "2995    1258.0\n",
       "2996    3496.0\n",
       "2997     693.0\n",
       "2998      46.0\n",
       "2999     753.0\n",
       "Name: population, Length: 3000, dtype: float64"
      ]
     },
     "execution_count": 9,
     "metadata": {},
     "output_type": "execute_result"
    }
   ],
   "source": [
    "sample_df['population']"
   ]
  },
  {
   "cell_type": "markdown",
   "id": "7e7c5f73",
   "metadata": {},
   "source": [
    "Getting multiple columns at once:"
   ]
  },
  {
   "cell_type": "code",
   "execution_count": 10,
   "id": "e881e87e",
   "metadata": {},
   "outputs": [
    {
     "data": {
      "text/html": [
       "<div>\n",
       "<style scoped>\n",
       "    .dataframe tbody tr th:only-of-type {\n",
       "        vertical-align: middle;\n",
       "    }\n",
       "\n",
       "    .dataframe tbody tr th {\n",
       "        vertical-align: top;\n",
       "    }\n",
       "\n",
       "    .dataframe thead th {\n",
       "        text-align: right;\n",
       "    }\n",
       "</style>\n",
       "<table border=\"1\" class=\"dataframe\">\n",
       "  <thead>\n",
       "    <tr style=\"text-align: right;\">\n",
       "      <th></th>\n",
       "      <th>population</th>\n",
       "      <th>households</th>\n",
       "    </tr>\n",
       "  </thead>\n",
       "  <tbody>\n",
       "    <tr>\n",
       "      <th>0</th>\n",
       "      <td>1537.0</td>\n",
       "      <td>606.0</td>\n",
       "    </tr>\n",
       "    <tr>\n",
       "      <th>1</th>\n",
       "      <td>809.0</td>\n",
       "      <td>277.0</td>\n",
       "    </tr>\n",
       "    <tr>\n",
       "      <th>2</th>\n",
       "      <td>1484.0</td>\n",
       "      <td>495.0</td>\n",
       "    </tr>\n",
       "    <tr>\n",
       "      <th>3</th>\n",
       "      <td>49.0</td>\n",
       "      <td>11.0</td>\n",
       "    </tr>\n",
       "    <tr>\n",
       "      <th>4</th>\n",
       "      <td>850.0</td>\n",
       "      <td>237.0</td>\n",
       "    </tr>\n",
       "    <tr>\n",
       "      <th>...</th>\n",
       "      <td>...</td>\n",
       "      <td>...</td>\n",
       "    </tr>\n",
       "    <tr>\n",
       "      <th>2995</th>\n",
       "      <td>1258.0</td>\n",
       "      <td>607.0</td>\n",
       "    </tr>\n",
       "    <tr>\n",
       "      <th>2996</th>\n",
       "      <td>3496.0</td>\n",
       "      <td>1036.0</td>\n",
       "    </tr>\n",
       "    <tr>\n",
       "      <th>2997</th>\n",
       "      <td>693.0</td>\n",
       "      <td>220.0</td>\n",
       "    </tr>\n",
       "    <tr>\n",
       "      <th>2998</th>\n",
       "      <td>46.0</td>\n",
       "      <td>14.0</td>\n",
       "    </tr>\n",
       "    <tr>\n",
       "      <th>2999</th>\n",
       "      <td>753.0</td>\n",
       "      <td>260.0</td>\n",
       "    </tr>\n",
       "  </tbody>\n",
       "</table>\n",
       "<p>3000 rows × 2 columns</p>\n",
       "</div>"
      ],
      "text/plain": [
       "      population  households\n",
       "0         1537.0       606.0\n",
       "1          809.0       277.0\n",
       "2         1484.0       495.0\n",
       "3           49.0        11.0\n",
       "4          850.0       237.0\n",
       "...          ...         ...\n",
       "2995      1258.0       607.0\n",
       "2996      3496.0      1036.0\n",
       "2997       693.0       220.0\n",
       "2998        46.0        14.0\n",
       "2999       753.0       260.0\n",
       "\n",
       "[3000 rows x 2 columns]"
      ]
     },
     "execution_count": 10,
     "metadata": {},
     "output_type": "execute_result"
    }
   ],
   "source": [
    "sample_df[[\"population\", \"households\"]]"
   ]
  },
  {
   "cell_type": "markdown",
   "id": "5641e34a",
   "metadata": {},
   "source": [
    "Subsetting ROWS"
   ]
  },
  {
   "cell_type": "code",
   "execution_count": 13,
   "id": "d7d36fd8",
   "metadata": {},
   "outputs": [
    {
     "data": {
      "text/html": [
       "<div>\n",
       "<style scoped>\n",
       "    .dataframe tbody tr th:only-of-type {\n",
       "        vertical-align: middle;\n",
       "    }\n",
       "\n",
       "    .dataframe tbody tr th {\n",
       "        vertical-align: top;\n",
       "    }\n",
       "\n",
       "    .dataframe thead th {\n",
       "        text-align: right;\n",
       "    }\n",
       "</style>\n",
       "<table border=\"1\" class=\"dataframe\">\n",
       "  <thead>\n",
       "    <tr style=\"text-align: right;\">\n",
       "      <th></th>\n",
       "      <th>longitude</th>\n",
       "      <th>latitude</th>\n",
       "      <th>housing_median_age</th>\n",
       "      <th>total_rooms</th>\n",
       "      <th>total_bedrooms</th>\n",
       "      <th>population</th>\n",
       "      <th>households</th>\n",
       "      <th>median_income</th>\n",
       "      <th>median_house_value</th>\n",
       "    </tr>\n",
       "  </thead>\n",
       "  <tbody>\n",
       "    <tr>\n",
       "      <th>842</th>\n",
       "      <td>-117.95</td>\n",
       "      <td>35.08</td>\n",
       "      <td>1.0</td>\n",
       "      <td>83.0</td>\n",
       "      <td>15.0</td>\n",
       "      <td>32.0</td>\n",
       "      <td>15.0</td>\n",
       "      <td>4.875</td>\n",
       "      <td>141700.0</td>\n",
       "    </tr>\n",
       "    <tr>\n",
       "      <th>1115</th>\n",
       "      <td>-116.95</td>\n",
       "      <td>33.86</td>\n",
       "      <td>1.0</td>\n",
       "      <td>6.0</td>\n",
       "      <td>2.0</td>\n",
       "      <td>8.0</td>\n",
       "      <td>2.0</td>\n",
       "      <td>1.625</td>\n",
       "      <td>55000.0</td>\n",
       "    </tr>\n",
       "  </tbody>\n",
       "</table>\n",
       "</div>"
      ],
      "text/plain": [
       "      longitude  latitude  housing_median_age  total_rooms  total_bedrooms  \\\n",
       "842     -117.95     35.08                 1.0         83.0            15.0   \n",
       "1115    -116.95     33.86                 1.0          6.0             2.0   \n",
       "\n",
       "      population  households  median_income  median_house_value  \n",
       "842         32.0        15.0          4.875            141700.0  \n",
       "1115         8.0         2.0          1.625             55000.0  "
      ]
     },
     "execution_count": 13,
     "metadata": {},
     "output_type": "execute_result"
    }
   ],
   "source": [
    "# sample_df[sample_df[\"column2\"] < 20]\n",
    "california_housing_test[california_housing_test[\"housing_median_age\"] < 2]"
   ]
  },
  {
   "cell_type": "markdown",
   "id": "8edbfb51",
   "metadata": {},
   "source": [
    "Subsetting multiple conditions\n",
    "\n",
    "```python\n",
    "  is_lab = dogs[\"breed\" === \"Labrador\"]\n",
    "  is_brown = dogs[\"color\" == \"Brown\"]\n",
    "  \n",
    "  dogs[is_lab & is_brown]\n",
    "```\n",
    "\n"
   ]
  },
  {
   "cell_type": "code",
   "execution_count": null,
   "id": "435d1a7b",
   "metadata": {},
   "outputs": [],
   "source": [
    "california_housing_test"
   ]
  }
 ],
 "metadata": {
  "kernelspec": {
   "display_name": ".venv",
   "language": "python",
   "name": "python3"
  },
  "language_info": {
   "codemirror_mode": {
    "name": "ipython",
    "version": 3
   },
   "file_extension": ".py",
   "mimetype": "text/x-python",
   "name": "python",
   "nbconvert_exporter": "python",
   "pygments_lexer": "ipython3",
   "version": "3.13.3"
  }
 },
 "nbformat": 4,
 "nbformat_minor": 5
}
