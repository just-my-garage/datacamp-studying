{
 "cells": [
  {
   "cell_type": "markdown",
   "id": "c7d21078",
   "metadata": {},
   "source": [
    "# Different types of File\n",
    "There are different files types you can read other than `.csv`\n",
    "<table>\n",
    "<tr>\n",
    "<td><code>.xslx</code></td>\n",
    "<td><code>.parquet</code></td>\n",
    "<td><code>.feather</code></td>\n",
    "<td><code>.html</code></td>\n",
    "<td><code>.xml</code></td>\n",
    "<td><code>.sql</code></td>\n",
    "<td><code>your system clipboard</code></td>\n",
    "</tr>\n",
    "</table>"
   ]
  },
  {
   "cell_type": "code",
   "execution_count": null,
   "id": "b9ea3c16",
   "metadata": {},
   "outputs": [],
   "source": [
    "import pandas as pd"
   ]
  },
  {
   "cell_type": "code",
   "execution_count": null,
   "id": "3fc35dd3",
   "metadata": {},
   "outputs": [],
   "source": [
    "ExcelFile = pd.read_excel()"
   ]
  }
 ],
 "metadata": {
  "language_info": {
   "name": "python"
  }
 },
 "nbformat": 4,
 "nbformat_minor": 5
}
