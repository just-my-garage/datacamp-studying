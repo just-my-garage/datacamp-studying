{
 "cells": [
  {
   "cell_type": "markdown",
   "id": "aa54b1c9",
   "metadata": {},
   "source": [
    "# Creating Pivot Tables\n",
    "Before proceeding here, make sure to study <a href=\"./7-grouped-summaries.ipynb\">Creating Grouped Summaries</a>.\n",
    "\n",
    "Pivot tables are commonly using in excel/spreadsheet to summarize data"
   ]
  },
  {
   "cell_type": "code",
   "execution_count": null,
   "id": "c29a3bed",
   "metadata": {},
   "outputs": [],
   "source": [
    "%%capture\n",
    "import pandas as pd\n",
    "california_housing_test = pd.read_csv('../datasets-from-colab/california_housing_test.csv')\n",
    "\n",
    "sample_df = pd.DataFrame(california_housing_test)\n",
    "sample_df"
   ]
  },
  {
   "cell_type": "code",
   "execution_count": null,
   "id": "72b77364",
   "metadata": {},
   "outputs": [],
   "source": [
    "\"\"\"\n",
    "    <dataframe>.pivot_table(values?, index?, columns?, ,aggfunc[]?, margins?) \n",
    "\n",
    "    PIVOTING A TABLE \n",
    "        if we don't want to use `.groupby` shown below, \n",
    "        follow the code.  \n",
    "\"\"\"\n",
    "# sample_df.groupby('households')['population'].mean()\n",
    "sample_df.pivot_table(values='population', index='households')\n",
    "\n",
    "\"\"\"\n",
    "    values  = `the column you want to summarize`\n",
    "    index   = `column you want to groupby`\n",
    "    columns = \n",
    "\n",
    "    FOR Example\n",
    "    > get the mean of population by/based on age\n",
    "    > get the mean of values based on category\n",
    "\"\"\""
   ]
  },
  {
   "cell_type": "code",
   "execution_count": null,
   "id": "ec267708",
   "metadata": {},
   "outputs": [
    {
     "data": {
      "text/html": [
       "<div>\n",
       "<style scoped>\n",
       "    .dataframe tbody tr th:only-of-type {\n",
       "        vertical-align: middle;\n",
       "    }\n",
       "\n",
       "    .dataframe tbody tr th {\n",
       "        vertical-align: top;\n",
       "    }\n",
       "\n",
       "    .dataframe thead tr th {\n",
       "        text-align: left;\n",
       "    }\n",
       "\n",
       "    .dataframe thead tr:last-of-type th {\n",
       "        text-align: right;\n",
       "    }\n",
       "</style>\n",
       "<table border=\"1\" class=\"dataframe\">\n",
       "  <thead>\n",
       "    <tr>\n",
       "      <th></th>\n",
       "      <th>mean</th>\n",
       "      <th>median</th>\n",
       "    </tr>\n",
       "    <tr>\n",
       "      <th></th>\n",
       "      <th>population</th>\n",
       "      <th>population</th>\n",
       "    </tr>\n",
       "    <tr>\n",
       "      <th>households</th>\n",
       "      <th></th>\n",
       "      <th></th>\n",
       "    </tr>\n",
       "  </thead>\n",
       "  <tbody>\n",
       "    <tr>\n",
       "      <th>2.0</th>\n",
       "      <td>8.0</td>\n",
       "      <td>8.0</td>\n",
       "    </tr>\n",
       "    <tr>\n",
       "      <th>3.0</th>\n",
       "      <td>6.5</td>\n",
       "      <td>6.5</td>\n",
       "    </tr>\n",
       "    <tr>\n",
       "      <th>7.0</th>\n",
       "      <td>33.0</td>\n",
       "      <td>33.0</td>\n",
       "    </tr>\n",
       "    <tr>\n",
       "      <th>8.0</th>\n",
       "      <td>23.0</td>\n",
       "      <td>23.0</td>\n",
       "    </tr>\n",
       "    <tr>\n",
       "      <th>9.0</th>\n",
       "      <td>49.6</td>\n",
       "      <td>22.0</td>\n",
       "    </tr>\n",
       "    <tr>\n",
       "      <th>...</th>\n",
       "      <td>...</td>\n",
       "      <td>...</td>\n",
       "    </tr>\n",
       "    <tr>\n",
       "      <th>3293.0</th>\n",
       "      <td>8768.0</td>\n",
       "      <td>8768.0</td>\n",
       "    </tr>\n",
       "    <tr>\n",
       "      <th>3958.0</th>\n",
       "      <td>10877.0</td>\n",
       "      <td>10877.0</td>\n",
       "    </tr>\n",
       "    <tr>\n",
       "      <th>4176.0</th>\n",
       "      <td>7604.0</td>\n",
       "      <td>7604.0</td>\n",
       "    </tr>\n",
       "    <tr>\n",
       "      <th>4855.0</th>\n",
       "      <td>11935.0</td>\n",
       "      <td>11935.0</td>\n",
       "    </tr>\n",
       "    <tr>\n",
       "      <th>4930.0</th>\n",
       "      <td>7431.0</td>\n",
       "      <td>7431.0</td>\n",
       "    </tr>\n",
       "  </tbody>\n",
       "</table>\n",
       "<p>1026 rows × 2 columns</p>\n",
       "</div>"
      ],
      "text/plain": [
       "                 mean     median\n",
       "           population population\n",
       "households                      \n",
       "2.0               8.0        8.0\n",
       "3.0               6.5        6.5\n",
       "7.0              33.0       33.0\n",
       "8.0              23.0       23.0\n",
       "9.0              49.6       22.0\n",
       "...               ...        ...\n",
       "3293.0         8768.0     8768.0\n",
       "3958.0        10877.0    10877.0\n",
       "4176.0         7604.0     7604.0\n",
       "4855.0        11935.0    11935.0\n",
       "4930.0         7431.0     7431.0\n",
       "\n",
       "[1026 rows x 2 columns]"
      ]
     },
     "execution_count": 12,
     "metadata": {},
     "output_type": "execute_result"
    }
   ],
   "source": [
    "\"\"\"\n",
    "    aggfunc=<value[]>\n",
    "\n",
    "    We can also pass aggregate functions inside\n",
    "\"\"\"\n",
    "sample_df.pivot_table(values='population', index='households', aggfunc=['mean','median'])"
   ]
  },
  {
   "cell_type": "code",
   "execution_count": null,
   "id": "01def7af",
   "metadata": {},
   "outputs": [],
   "source": [
    "\"\"\"\n",
    "    columns=<value>\n",
    "\n",
    "    To add another column similar to:\n",
    "    sample_df.groupby('population', 'total_bedrooms')['households'].mean()\n",
    "\n",
    "    values = literally the data fields that appear\n",
    "    index = rows data based on\n",
    "    columns = \n",
    "\n",
    "    Then do:\n",
    "\"\"\" \n",
    "sample_df.pivot_table(values=\"population\", index=\"total_bedrooms\", columns=\"households\")"
   ]
  },
  {
   "cell_type": "code",
   "execution_count": null,
   "id": "e8aefdbd",
   "metadata": {},
   "outputs": [],
   "source": [
    "\"\"\"\n",
    "    fill_value=0\n",
    "\n",
    "    We have a lot of NaN data, \n",
    "    to have a default value do:\n",
    "\"\"\"\n",
    "sample_df.pivot_table(values=\"population\", index=\"total_bedrooms\", columns=\"households\", fill_value=0)"
   ]
  },
  {
   "cell_type": "code",
   "execution_count": null,
   "id": "7d5e45d6",
   "metadata": {},
   "outputs": [],
   "source": [
    "\"\"\"\n",
    "    margins=True     \n",
    "\n",
    "    If we want to see the TOTAL/summary value of ALL\n",
    "\"\"\"\n",
    "\n",
    "sample_df.pivot_table(values=\"population\", index=\"total_bedrooms\", columns=\"households\", fill_value=0, margins=True)"
   ]
  },
  {
   "cell_type": "markdown",
   "id": "50f2c5a2",
   "metadata": {},
   "source": [
    "# Calculating a Pivot Table\n",
    "once you have a pivot table, refer to <a href='./5-summarizing-numerical-data.ipynb'>Summarizing Numerical Data</a>, inside that chapter you used `.max()`, `.mean()`, and more! you can use that with `.axis=<value>`!"
   ]
  },
  {
   "cell_type": "code",
   "execution_count": null,
   "id": "6631400e",
   "metadata": {},
   "outputs": [],
   "source": [
    "sample_df.pivot_table(values=\"population\", index=\"total_bedrooms\", columns=\"households\", fill_value=0)\n",
    "\n",
    "\n",
    "sample_df.max(axis='columns')  # max of each column\n",
    "# sample_df.max(axis='index')  # max of each row"
   ]
  },
  {
   "cell_type": "code",
   "execution_count": null,
   "id": "9e6a4db0",
   "metadata": {},
   "outputs": [],
   "source": [
    "# "
   ]
  }
 ],
 "metadata": {
  "kernelspec": {
   "display_name": ".venv (3.13.5)",
   "language": "python",
   "name": "python3"
  },
  "language_info": {
   "codemirror_mode": {
    "name": "ipython",
    "version": 3
   },
   "file_extension": ".py",
   "mimetype": "text/x-python",
   "name": "python",
   "nbconvert_exporter": "python",
   "pygments_lexer": "ipython3",
   "version": "3.13.5"
  }
 },
 "nbformat": 4,
 "nbformat_minor": 5
}
