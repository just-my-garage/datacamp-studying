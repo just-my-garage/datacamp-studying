{
  "nbformat": 4,
  "nbformat_minor": 0,
  "metadata": {
    "colab": {
      "private_outputs": true,
      "provenance": []
    },
    "kernelspec": {
      "name": "python3",
      "display_name": "Python 3"
    },
    "language_info": {
      "name": "python"
    }
  },
  "cells": [
    {
      "cell_type": "code",
      "execution_count": null,
      "metadata": {
        "id": "_6OHIbMqXrps"
      },
      "outputs": [],
      "source": [
        "import pandas as pd\n",
        "import numpy as np"
      ]
    },
    {
      "cell_type": "code",
      "source": [
        "california_housing_test = pd.read_csv('sample_data/california_housing_test.csv')"
      ],
      "metadata": {
        "id": "ZqCkjxAZZgT9"
      },
      "execution_count": null,
      "outputs": []
    },
    {
      "cell_type": "code",
      "source": [
        "data = {\n",
        "    'column1': np.random.rand(10),  # 10 random floats between 0 and 1\n",
        "    'column2': np.random.randint(0, 100, 10),  # 10 random integers between 0 and 99\n",
        "    'column3': ['A', 'B', 'C', 'A', 'B', 'C', 'A', 'B', 'C', 'A'] # 10 categorical values\n",
        "}\n",
        "\n",
        "sample_df = pd.DataFrame(data)"
      ],
      "metadata": {
        "id": "tvtBzDBwbdkU"
      },
      "execution_count": null,
      "outputs": []
    },
    {
      "cell_type": "markdown",
      "source": [
        "# Pandas Learning\n",
        "\n",
        "- is made from matplotib and numpy\n",
        "- Pandas' representation of data is through a dataframe (table)"
      ],
      "metadata": {
        "id": "INnUbUr8YHXn"
      }
    },
    {
      "cell_type": "code",
      "source": [
        "\"\"\"\n",
        "  .head()\n",
        "\n",
        "  RETURNS THE FIRST 5 ROWS OF THE DATAFRAME\n",
        "\"\"\"\n",
        "print(california_housing_test.head())"
      ],
      "metadata": {
        "collapsed": true,
        "id": "wGfbyXNtYJuA"
      },
      "execution_count": null,
      "outputs": []
    },
    {
      "cell_type": "code",
      "source": [
        "\"\"\"\n",
        "  .shape\n",
        "\n",
        "  RETURNS NO. OF ROWS, NEXT COLUMNS\n",
        "\"\"\"\n",
        "print(california_housing_test.shape)"
      ],
      "metadata": {
        "collapsed": true,
        "id": "0glNb9DwZM_Q"
      },
      "execution_count": null,
      "outputs": []
    },
    {
      "cell_type": "code",
      "source": [
        "\"\"\"\n",
        "  .info()\n",
        "\n",
        "  RETURNS INFO ABOUT THE DATAFRAME\n",
        "\"\"\"\n",
        "print(california_housing_test.info())"
      ],
      "metadata": {
        "collapsed": true,
        "id": "DS6NN7CZcomy"
      },
      "execution_count": null,
      "outputs": []
    },
    {
      "cell_type": "code",
      "source": [
        "\"\"\"\n",
        "  .describe()\n",
        "\n",
        "  RETURNS A SUMMARY OF THE DATAFRAME\n",
        "\"\"\"\n",
        "print(california_housing_test.describe())"
      ],
      "metadata": {
        "collapsed": true,
        "id": "Q4-awzTta2fh"
      },
      "execution_count": null,
      "outputs": []
    },
    {
      "cell_type": "code",
      "source": [
        "\"\"\"\n",
        "  .values\n",
        "\n",
        "  RETURNS ALL THE VALUES IN ARRAY FORMAT\n",
        "\"\"\"\n",
        "print(sample_df.values)"
      ],
      "metadata": {
        "collapsed": true,
        "id": "Rw9GKVpnbCqu"
      },
      "execution_count": null,
      "outputs": []
    },
    {
      "cell_type": "code",
      "source": [
        "\"\"\"\n",
        "  .columns\n",
        "\n",
        "  RETURNS THE COLUMNS OF THE DATAFRAME\n",
        "\"\"\"\n",
        "print(california_housing_test.columns)"
      ],
      "metadata": {
        "collapsed": true,
        "id": "fP8bLFt7cgjW"
      },
      "execution_count": null,
      "outputs": []
    },
    {
      "cell_type": "code",
      "source": [
        "\"\"\"\n",
        "  .index\n",
        "\n",
        "  RETURNS THE INDEX OF THE DATAFRAME\n",
        "\"\"\"\n",
        "print(california_housing_test.index)"
      ],
      "metadata": {
        "collapsed": true,
        "id": "TcDyoQQockJE"
      },
      "execution_count": null,
      "outputs": []
    },
    {
      "cell_type": "markdown",
      "source": [
        "# Sorting and Subsetting\n",
        "`.sort_values()` is a very powerful method tha can have multiple parameters and attributes"
      ],
      "metadata": {
        "id": "8dqidBd-c90b"
      }
    },
    {
      "cell_type": "code",
      "source": [
        "\"\"\"\n",
        "  .sort_values(<COLUMN>)\n",
        "\n",
        "  SORTS DATAFRAME BY COLUMN, LOWEST TO HIGHEST\n",
        "\"\"\"\n",
        "print(sample_df.sort_values('column1'))"
      ],
      "metadata": {
        "collapsed": true,
        "id": "kNE1e7kic_mt"
      },
      "execution_count": null,
      "outputs": []
    },
    {
      "cell_type": "code",
      "source": [
        "\"\"\"\n",
        "  .sort_values(<COLUMN>, ascending=False)\n",
        "\n",
        "  SORTS DATAFRAME BY COLUMN, HIGHEST TO LOWEST\n",
        "\"\"\"\n",
        "print(sample_df.sort_values(['column1', \"column2\"], ascending=[True, False]))"
      ],
      "metadata": {
        "collapsed": true,
        "id": "LkZh_m6AeMPw"
      },
      "execution_count": null,
      "outputs": []
    },
    {
      "cell_type": "markdown",
      "source": [
        "Subsetting refers to choosing a specific column in a dataframe"
      ],
      "metadata": {
        "id": "qv0HLR31fAL3"
      }
    },
    {
      "cell_type": "code",
      "source": [
        "sample_df['column1']"
      ],
      "metadata": {
        "collapsed": true,
        "id": "BVPWlmMPevhf"
      },
      "execution_count": null,
      "outputs": []
    },
    {
      "cell_type": "markdown",
      "source": [
        "Getting multiple columns at once"
      ],
      "metadata": {
        "id": "mYG8biq0fd0H"
      }
    },
    {
      "cell_type": "code",
      "source": [
        "sample_df[[\"column1\", \"column2\"]]"
      ],
      "metadata": {
        "collapsed": true,
        "id": "7FGk2xIyfLNI"
      },
      "execution_count": null,
      "outputs": []
    },
    {
      "cell_type": "markdown",
      "source": [
        "Subsetting ROWS"
      ],
      "metadata": {
        "id": "ykJJlwn1f3Zt"
      }
    },
    {
      "cell_type": "code",
      "source": [
        "# sample_df[sample_df[\"column2\"] < 20]\n",
        "california_housing_test[california_housing_test[\"housing_median_age\"] > 51]"
      ],
      "metadata": {
        "collapsed": true,
        "id": "bxjVdwRcfm3f"
      },
      "execution_count": null,
      "outputs": []
    },
    {
      "cell_type": "markdown",
      "source": [
        "You can also subset rows based on date coditions, although our dataframes don't contain dates, therefore i'll represent it here\n",
        "\n",
        "```python\n",
        "sample_df[[sample_df] < \"2023-01-30\"]\n",
        "```"
      ],
      "metadata": {
        "id": "ACRYdrPlh_bi"
      }
    },
    {
      "cell_type": "markdown",
      "source": [
        "Subsetting multiple conditions\n",
        "\n",
        "```python\n",
        "  is_lab = dogs[\"breed\" === \"Labrador\"]\n",
        "  is_brown = dogs[\"color\" == \"Brown\"]\n",
        "  \n",
        "  dogs[is_lab & is_brown]\n",
        "```\n",
        "\n"
      ],
      "metadata": {
        "id": "eLbR-4UxijxM"
      }
    },
    {
      "cell_type": "markdown",
      "source": [
        "Although you could as well do this to subset string values\n",
        "\n",
        "```python\n",
        "  is_black_or_brown = dogs[\"color\"].isin([\"Black\", \"Brown\"])\n",
        "\n",
        "  dogs[is_black_or_brown]\n",
        "```"
      ],
      "metadata": {
        "id": "GAKzDdsLjdrp"
      }
    },
    {
      "cell_type": "code",
      "source": [],
      "metadata": {
        "id": "IBkR23PDjdTx"
      },
      "execution_count": null,
      "outputs": []
    },
    {
      "cell_type": "code",
      "source": [],
      "metadata": {
        "id": "ix95yO5rjTZT"
      },
      "execution_count": null,
      "outputs": []
    }
  ]
}